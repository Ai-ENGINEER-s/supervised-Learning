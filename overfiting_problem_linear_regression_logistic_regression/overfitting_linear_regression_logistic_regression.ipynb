{
 "cells": [
  {
   "cell_type": "code",
   "execution_count": null,
   "metadata": {},
   "outputs": [],
   "source": []
  },
  {
   "cell_type": "markdown",
   "metadata": {},
   "source": [
    "## Regularized Cost and Gradient "
   ]
  },
  {
   "cell_type": "markdown",
   "metadata": {},
   "source": [
    "### Gols \n",
    "\n",
    "###### in this lab , you will \n",
    "\n",
    "Extend the previous linear and logistic cost function with regularization with regularization term \n",
    "\n",
    "return the previous example of over-fitting with a regularization term added "
   ]
  },
  {
   "cell_type": "code",
   "execution_count": 12,
   "metadata": {},
   "outputs": [],
   "source": [
    "import numpy as np \n",
    "import matplotlib.pyplot as plt \n",
    "import math \n"
   ]
  },
  {
   "cell_type": "code",
   "execution_count": 13,
   "metadata": {},
   "outputs": [],
   "source": [
    "def linear_regression_with_regularized(x , y , w , b, lambda_):\n",
    "    \"computes the cost over all examples \"\n",
    "\n",
    "\n",
    "    m = x.shape[0]\n",
    "    n = len(w)\n",
    "\n",
    "    cost = 0.0\n",
    "    reg = 0.0\n",
    " \n",
    "    for i in range(m):\n",
    "\n",
    "        f_wb_i = np.dot(x[i], w) + b \n",
    "\n",
    "        f_wb = f_wb_i - y[i]\n",
    "\n",
    "        cost += f_wb**2 \n",
    "\n",
    "    cost /= (2*m)\n",
    "\n",
    "    for j in range(n):\n",
    "\n",
    "        reg += w[j]**2\n",
    "    reg = (reg * lambda_) / (2*m)\n",
    "\n",
    "\n",
    "    total_cost = cost + reg\n",
    "\n",
    "    return total_cost \n",
    "\n",
    "\n"
   ]
  },
  {
   "cell_type": "code",
   "execution_count": 14,
   "metadata": {},
   "outputs": [
    {
     "name": "stdout",
     "output_type": "stream",
     "text": [
      "Regularized cost: 0.07917239320214277\n"
     ]
    }
   ],
   "source": [
    "np.random.seed(1)\n",
    "X_tmp = np.random.rand(5,6)\n",
    "y_tmp = np.array([0,1,0,1,0])\n",
    "w_tmp = np.random.rand(X_tmp.shape[1]).reshape(-1,)-0.5\n",
    "b_tmp = 0.5\n",
    "lambda_tmp = 0.7\n",
    "cost_tmp = linear_regression_with_regularized(X_tmp, y_tmp, w_tmp, b_tmp, lambda_tmp)\n",
    "\n",
    "print(\"Regularized cost:\", cost_tmp)"
   ]
  },
  {
   "cell_type": "code",
   "execution_count": 23,
   "metadata": {},
   "outputs": [],
   "source": [
    "def  sigmoid(z): \n",
    "\n",
    "    z = 1/ (1+ np.exp(-z))\n",
    "\n",
    "    return z \n",
    "\n",
    "\n",
    "def compute_cost_logistic_reg(x , y , w ,b, lambda_=1 ):\n",
    "\n",
    "\n",
    "\n",
    "    m = x.shape[0]\n",
    "    n = len(w)\n",
    "\n",
    "    cost = 0.0\n",
    "\n",
    "    reg = 0.0\n",
    "\n",
    "    for i in range(m):\n",
    "\n",
    "        f_wb_i = np.dot(x[i],w) +b \n",
    "\n",
    "        f_wb = sigmoid(f_wb_i)\n",
    "\n",
    "\n",
    "        cost +=  -y[i]*np.log(f_wb) - (1-y[i])*np.log(1-f_wb)\n",
    "    cost /=m \n",
    "\n",
    "    for j in range(n):\n",
    "\n",
    "        reg += w[j]**2\n",
    "    reg = (reg*lambda_) / (2*m)\n",
    "\n",
    "\n",
    "    total_cost = cost + reg \n",
    "\n",
    "\n",
    "    return total_cost \n",
    "\n",
    "\n",
    "\n",
    "\n"
   ]
  },
  {
   "cell_type": "code",
   "execution_count": 25,
   "metadata": {},
   "outputs": [
    {
     "name": "stdout",
     "output_type": "stream",
     "text": [
      "Regularized cost: 0.6850849138741673\n"
     ]
    }
   ],
   "source": [
    "np.random.seed(1)\n",
    "X_tmp = np.random.rand(5,6)\n",
    "y_tmp = np.array([0,1,0,1,0])\n",
    "w_tmp = np.random.rand(X_tmp.shape[1]).reshape(-1,)-0.5\n",
    "b_tmp = 0.5\n",
    "lambda_tmp = 0.7\n",
    "cost_tmp = compute_cost_logistic_reg(X_tmp, y_tmp, w_tmp, b_tmp, lambda_tmp)\n",
    "\n",
    "print(\"Regularized cost:\", cost_tmp)"
   ]
  },
  {
   "cell_type": "code",
   "execution_count": 32,
   "metadata": {},
   "outputs": [],
   "source": [
    "# let's go for gradient descent for linear regression \n",
    "\n",
    "\n",
    "\n",
    "def compute_gradient_linear_reg(x , y , w , b ,lambda_):\n",
    "\n",
    "    m = x.shape[0]\n",
    "\n",
    "    n = len(w)\n",
    "\n",
    "    dj_dw = np.zeros(n)\n",
    "    dj_db = 0.0\n",
    "\n",
    "    reg = 0.0\n",
    "\n",
    "    for i in range(m):\n",
    "\n",
    "\n",
    "        f_wb_i = np.dot(x[i], w ) +b\n",
    "\n",
    "        err = f_wb_i - y[i]\n",
    "\n",
    "        for j in range(n):\n",
    "\n",
    "            dj_dw[j] += err*x[i, j]\n",
    "\n",
    "            \n",
    "        dj_db += err\n",
    "\n",
    "\n",
    "    \n",
    "\n",
    "    dj_dw /= m \n",
    "    dj_db /= m \n",
    "    for j in range (n):\n",
    "\n",
    "        dj_dw[j] = dj_dw[j] + (lambda_ / m) * w[j]\n",
    "\n",
    "    return dj_dw , dj_db\n",
    "    \n",
    "        \n",
    "       \n",
    "  \n",
    "\n",
    "\n",
    "\n",
    " "
   ]
  },
  {
   "cell_type": "code",
   "execution_count": 33,
   "metadata": {},
   "outputs": [
    {
     "name": "stdout",
     "output_type": "stream",
     "text": [
      "dj_db: [0.29653215 0.49116796 0.21645878]\n",
      "Regularized dj_dw:\n",
      " 0.6648774569425726\n"
     ]
    }
   ],
   "source": [
    "np.random.seed(1)\n",
    "X_tmp = np.random.rand(5,3)\n",
    "y_tmp = np.array([0,1,0,1,0])\n",
    "w_tmp = np.random.rand(X_tmp.shape[1])\n",
    "b_tmp = 0.5\n",
    "lambda_tmp = 0.7\n",
    "dj_db_tmp, dj_dw_tmp =  compute_gradient_linear_reg(X_tmp, y_tmp, w_tmp, b_tmp, lambda_tmp)\n",
    "\n",
    "print(f\"dj_db: {dj_db_tmp}\", )\n",
    "print(f\"Regularized dj_dw:\\n {dj_dw_tmp.tolist()}\", )"
   ]
  },
  {
   "cell_type": "code",
   "execution_count": 41,
   "metadata": {},
   "outputs": [],
   "source": [
    "def sigmoid(z):\n",
    "\n",
    "\n",
    "    z = 1 / (1+np.exp(-z))\n",
    "\n",
    "    return z \n",
    "\n",
    "\n",
    "def compute_gradient_logistic_reg(x , y , w ,b,lambda_ ):\n",
    "\n",
    "\n",
    "    m = x.shape[0]\n",
    "\n",
    "    n = len(w)\n",
    "\n",
    "    dj_dw = np.zeros(n)\n",
    "    dj_db = 0.\n",
    "\n",
    "\n",
    "    for i in range(m):\n",
    "\n",
    "\n",
    "        f_wb_i = np.dot(x[i], w) +b \n",
    "\n",
    "        f_wb = sigmoid(f_wb_i)\n",
    "\n",
    "        err = f_wb - y[i]\n",
    "\n",
    "        for j in range(n):\n",
    "\n",
    "            dj_dw[j]+= err * x[i, j]\n",
    "\n",
    "        dj_db += err \n",
    "\n",
    "    dj_dw /=m \n",
    "    dj_db /=m\n",
    "\n",
    "    for j in range(n):\n",
    "\n",
    "        dj_dw[j] += (lambda_/m) * w[j]\n",
    "\n",
    "    \n",
    "    return dj_db , dj_dw\n",
    "\n",
    "\n",
    "\n",
    "\n",
    "\n"
   ]
  },
  {
   "cell_type": "code",
   "execution_count": 42,
   "metadata": {},
   "outputs": [
    {
     "name": "stdout",
     "output_type": "stream",
     "text": [
      "dj_db: 0.341798994972791\n",
      "Regularized dj_dw:\n",
      " [0.17380012933994293, 0.32007507881566943, 0.10776313396851499]\n"
     ]
    }
   ],
   "source": [
    "np.random.seed(1)\n",
    "X_tmp = np.random.rand(5,3)\n",
    "y_tmp = np.array([0,1,0,1,0])\n",
    "w_tmp = np.random.rand(X_tmp.shape[1])\n",
    "b_tmp = 0.5\n",
    "lambda_tmp = 0.7\n",
    "dj_db_tmp, dj_dw_tmp =  compute_gradient_logistic_reg(X_tmp, y_tmp, w_tmp, b_tmp, lambda_tmp)\n",
    "\n",
    "print(f\"dj_db: {dj_db_tmp}\", )\n",
    "print(f\"Regularized dj_dw:\\n {dj_dw_tmp.tolist()}\", )"
   ]
  },
  {
   "cell_type": "code",
   "execution_count": 43,
   "metadata": {},
   "outputs": [],
   "source": [
    "def compute_gradient_logistic_reg(x , y , w , lambda_):\n",
    "\n",
    "    \"computes the gradient for linear regression\"\n",
    "\n",
    "    "
   ]
  },
  {
   "cell_type": "code",
   "execution_count": null,
   "metadata": {},
   "outputs": [],
   "source": []
  }
 ],
 "metadata": {
  "kernelspec": {
   "display_name": ".env",
   "language": "python",
   "name": "python3"
  },
  "language_info": {
   "codemirror_mode": {
    "name": "ipython",
    "version": 3
   },
   "file_extension": ".py",
   "mimetype": "text/x-python",
   "name": "python",
   "nbconvert_exporter": "python",
   "pygments_lexer": "ipython3",
   "version": "3.11.5"
  }
 },
 "nbformat": 4,
 "nbformat_minor": 2
}
