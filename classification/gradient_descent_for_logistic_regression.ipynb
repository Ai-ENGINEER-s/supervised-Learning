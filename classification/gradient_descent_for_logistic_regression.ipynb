{
 "cells": [
  {
   "cell_type": "code",
   "execution_count": 3,
   "metadata": {},
   "outputs": [],
   "source": [
    "import numpy as np \n",
    "import copy \n",
    "\n",
    "\n",
    "def  sigmoid(z): \n",
    "\n",
    "         \n",
    "\n",
    "    z = 1/ (1+np.exp(-z))\n",
    "\n",
    "    return  z \n",
    "\n",
    "\n",
    "\n",
    "\n",
    "\n",
    "\n",
    "def compute_gradient_logistic(x , y ,w ,b ):\n",
    "\n",
    "\n",
    "\n",
    "    m, n = x.shape \n",
    "\n",
    "    dj_dw = np.zeros(n)\n",
    "\n",
    "    dj_db = 0.0\n",
    "\n",
    "    for  i in range(m):\n",
    "        z = np.dot(x[i] , w) +b \n",
    "\n",
    "        z_cost = sigmoid(z)\n",
    "\n",
    "        loss= z_cost - y[i]\n",
    "\n",
    "        for j in range(n) : \n",
    "\n",
    "            dj_dw[j]+= x[i,j]*loss \n",
    "\n",
    "        dj_db += loss\n",
    "\n",
    "    dj_dw /= m \n",
    "\n",
    "    dj_db /=m \n",
    "\n",
    "    return dj_dw , dj_db\n",
    "\n",
    "\n",
    "\n"
   ]
  },
  {
   "cell_type": "code",
   "execution_count": 4,
   "metadata": {},
   "outputs": [
    {
     "name": "stdout",
     "output_type": "stream",
     "text": [
      "dj_db: [0.49833339 0.49883943]\n",
      "dj_dw: 0.49861806546328574\n"
     ]
    }
   ],
   "source": [
    "X_tmp = np.array([[0.5, 1.5], [1,1], [1.5, 0.5], [3, 0.5], [2, 2], [1, 2.5]])\n",
    "y_tmp = np.array([0, 0, 0, 1, 1, 1])\n",
    "w_tmp = np.array([2.,3.])\n",
    "b_tmp = 1.\n",
    "dj_db_tmp, dj_dw_tmp = compute_gradient_logistic(X_tmp, y_tmp, w_tmp, b_tmp)\n",
    "print(f\"dj_db: {dj_db_tmp}\" )\n",
    "print(f\"dj_dw: {dj_dw_tmp.tolist()}\" )"
   ]
  },
  {
   "cell_type": "code",
   "execution_count": null,
   "metadata": {},
   "outputs": [],
   "source": [
    "def gradient_descent_for_logistic_regression(x , y , w_in ,b_in , alpah, num_iter):\n",
    "\n",
    "    j_hist = []\n",
    "\n",
    "    w = copy.deepcopy(w_in)\n",
    "    b = b_in \n",
    "    for i in range(num_iter): \n",
    "        dj_db , dj_dw = compute_gradient_logistic(x , y , w, b)\n",
    "\n",
    "        # update values for w and b \n",
    "\n",
    "        w = w -  alpah\n",
    "\n",
    "        "
   ]
  }
 ],
 "metadata": {
  "kernelspec": {
   "display_name": ".env",
   "language": "python",
   "name": "python3"
  },
  "language_info": {
   "codemirror_mode": {
    "name": "ipython",
    "version": 3
   },
   "file_extension": ".py",
   "mimetype": "text/x-python",
   "name": "python",
   "nbconvert_exporter": "python",
   "pygments_lexer": "ipython3",
   "version": "3.11.5"
  }
 },
 "nbformat": 4,
 "nbformat_minor": 2
}
