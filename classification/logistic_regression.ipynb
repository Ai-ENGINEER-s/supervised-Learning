{
 "cells": [
  {
   "cell_type": "markdown",
   "metadata": {},
   "source": [
    "# sigmoid function implementation "
   ]
  },
  {
   "cell_type": "code",
   "execution_count": 3,
   "metadata": {},
   "outputs": [],
   "source": [
    "import numpy as np \n",
    "from matplotlib import widgets\n",
    "import matplotlib.pyplot as plt \n",
    "import math "
   ]
  },
  {
   "cell_type": "code",
   "execution_count": 4,
   "metadata": {},
   "outputs": [
    {
     "name": "stdout",
     "output_type": "stream",
     "text": [
      "Input to exp :  [ 1  2  5  8 40]\n",
      "Output of exp : [2.71828183e+00 7.38905610e+00 1.48413159e+02 2.98095799e+03\n",
      " 2.35385267e+17]\n"
     ]
    }
   ],
   "source": [
    "input_array = np.array([1,2,5,8,40])\n",
    "exp_array = np.exp(input_array)\n",
    "print(\"Input to exp : \" , input_array)\n",
    "print(\"Output of exp :\", exp_array)"
   ]
  },
  {
   "cell_type": "code",
   "execution_count": 7,
   "metadata": {},
   "outputs": [
    {
     "name": "stdout",
     "output_type": "stream",
     "text": [
      "Values of tab withou exp :\n",
      " [ 0.2   0.63 12.   12.3  85.36]\n",
      "values of tab witg exp :\n",
      " [1.22140276e+00 1.87761058e+00 1.62754791e+05 2.19695989e+05\n",
      " 1.17862860e+37]\n"
     ]
    }
   ],
   "source": [
    "tabWithoutExp = np.array([0.2,0.63,12.0,12.3,85.36])\n",
    "tabWithExp = np.exp(tabWithoutExp)\n",
    "\n",
    "print(f\"Values of tab withou exp :\\n {tabWithoutExp}\")\n",
    "print(f\"values of tab witg exp :\\n {tabWithExp}\")"
   ]
  },
  {
   "cell_type": "code",
   "execution_count": 13,
   "metadata": {},
   "outputs": [],
   "source": [
    "def sigmoid(z): \n",
    "\n",
    "    predict = 1 / (1+ np.exp(-z))\n",
    "\n",
    "\n",
    "    return predict "
   ]
  },
  {
   "cell_type": "code",
   "execution_count": 16,
   "metadata": {},
   "outputs": [
    {
     "name": "stdout",
     "output_type": "stream",
     "text": [
      "Input , result of sigmoid function\n",
      "[[-5.00e+00  6.69e-03]\n",
      " [ 0.00e+00  5.00e-01]\n",
      " [ 5.00e+00  9.93e-01]\n",
      " [ 1.00e+01  1.00e+00]\n",
      " [ 1.50e+01  1.00e+00]]\n"
     ]
    }
   ],
   "source": [
    "tab1 = np.arange(-5 , 20 , 5)\n",
    "\n",
    "\n",
    "predictionOFSigmoidFunction= sigmoid(tab1)\n",
    "\n",
    "np.set_printoptions(precision=2)\n",
    "\n",
    "print(\"Input , result of sigmoid function\")\n",
    "\n",
    "print(np.c_[tab1 , predictionOFSigmoidFunction])\n"
   ]
  },
  {
   "cell_type": "code",
   "execution_count": null,
   "metadata": {},
   "outputs": [],
   "source": []
  }
 ],
 "metadata": {
  "kernelspec": {
   "display_name": ".env",
   "language": "python",
   "name": "python3"
  },
  "language_info": {
   "codemirror_mode": {
    "name": "ipython",
    "version": 3
   },
   "file_extension": ".py",
   "mimetype": "text/x-python",
   "name": "python",
   "nbconvert_exporter": "python",
   "pygments_lexer": "ipython3",
   "version": "3.11.5"
  }
 },
 "nbformat": 4,
 "nbformat_minor": 2
}
