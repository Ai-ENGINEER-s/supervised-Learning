{
 "cells": [
  {
   "cell_type": "code",
   "execution_count": 38,
   "metadata": {},
   "outputs": [],
   "source": [
    "import pandas as pd "
   ]
  },
  {
   "cell_type": "code",
   "execution_count": 39,
   "metadata": {},
   "outputs": [
    {
     "name": "stdout",
     "output_type": "stream",
     "text": [
      "0    79\n",
      "1    80\n",
      "2    83\n",
      "3    86\n",
      "4    87\n",
      "5    84\n",
      "dtype: int64\n"
     ]
    }
   ],
   "source": [
    "s = pd.Series([1,2,5,8,9,6])\n",
    "print(s.add(78))"
   ]
  },
  {
   "cell_type": "code",
   "execution_count": 40,
   "metadata": {},
   "outputs": [
    {
     "name": "stdout",
     "output_type": "stream",
     "text": [
      "An example of DataFrame :       Nom  Age         Ville\n",
      "0   Alice   24         Paris\n",
      "1   BARRY   27       Londres\n",
      "2  Charly   22  Burkina Faso\n",
      "\n",
      "    0\n",
      "0   1\n",
      "1   2\n",
      "2   5\n",
      "3   8\n",
      "4   9\n",
      "5   6\n",
      "6  10\n"
     ]
    }
   ],
   "source": [
    "data = {\n",
    "\n",
    "    'Nom': ['Alice', 'BARRY', 'Charly'], \n",
    "    'Age' : [24,27,22],\n",
    "    'Ville': ['Paris', 'Londres', 'Burkina Faso']\n",
    "}\n",
    "\n",
    "df = pd.DataFrame(data)\n",
    "\n",
    "print(f\"An example of DataFrame : {df}\\n\")\n",
    "\n",
    "\n",
    "data1 = [1,2,5,8,9,6,10]\n",
    "print(pd.DataFrame(data1))\n"
   ]
  },
  {
   "cell_type": "code",
   "execution_count": 41,
   "metadata": {},
   "outputs": [
    {
     "name": "stdout",
     "output_type": "stream",
     "text": [
      "   Home   Price  SqFt  Bedrooms  Bathrooms  Offers Brick Neighborhood\n",
      "0     1  114300  1790         2          2       2    No         East\n",
      "1     2  114200  2030         4          2       3    No         East\n",
      "2     3  114800  1740         3          2       1    No         East\n",
      "3     4   94700  1980         3          2       3    No         East\n",
      "4     5  119800  2130         3          3       3    No         East\n"
     ]
    }
   ],
   "source": [
    "df = pd.read_csv('house-prices.csv')\n",
    "\n",
    "print(df.head())"
   ]
  },
  {
   "cell_type": "code",
   "execution_count": 42,
   "metadata": {},
   "outputs": [
    {
     "name": "stdout",
     "output_type": "stream",
     "text": [
      "0      2\n",
      "1      2\n",
      "2      2\n",
      "3      2\n",
      "4      3\n",
      "      ..\n",
      "123    3\n",
      "124    3\n",
      "125    2\n",
      "126    3\n",
      "127    3\n",
      "Name: Bathrooms, Length: 128, dtype: int64\n"
     ]
    }
   ],
   "source": [
    "print(df['Bathrooms'])"
   ]
  },
  {
   "cell_type": "code",
   "execution_count": 43,
   "metadata": {},
   "outputs": [
    {
     "name": "stdout",
     "output_type": "stream",
     "text": [
      "df[['Bathrooms','Bedrooms']]\n",
      "\n",
      "   Home   Price  SqFt  Bedrooms  Bathrooms  Offers Brick Neighborhood\n",
      "0     1  114300  1790         2          2       2    No         East\n",
      "1     2  114200  2030         4          2       3    No         East\n",
      "2     3  114800  1740         3          2       1    No         East\n",
      "3     4   94700  1980         3          2       3    No         East\n",
      "4     5  119800  2130         3          3       3    No         East\n"
     ]
    }
   ],
   "source": [
    "# Manipulation de données \n",
    "\n",
    "print(f\"df[['Bathrooms','Bedrooms']]\\n\")\n",
    "\n",
    "\n",
    "# selection de lignes \n",
    "\n",
    "print(df.iloc[:5])"
   ]
  },
  {
   "cell_type": "code",
   "execution_count": 44,
   "metadata": {},
   "outputs": [
    {
     "name": "stdout",
     "output_type": "stream",
     "text": [
      "Home            0\n",
      "Price           0\n",
      "SqFt            0\n",
      "Bedrooms        0\n",
      "Bathrooms       0\n",
      "Offers          0\n",
      "Brick           0\n",
      "Neighborhood    0\n",
      "dtype: int64\n"
     ]
    }
   ],
   "source": [
    "# filtrage des données \n",
    "\n",
    "print(df.isnull().sum())"
   ]
  },
  {
   "cell_type": "code",
   "execution_count": 45,
   "metadata": {},
   "outputs": [
    {
     "name": "stdout",
     "output_type": "stream",
     "text": [
      "   0  1  2  3    4    5\n",
      "0  1  2  5  6  3.0  8.0\n",
      "1  1  2  5  8  NaN  NaN\n",
      "0    0\n",
      "1    0\n",
      "2    0\n",
      "3    0\n",
      "4    1\n",
      "5    1\n",
      "dtype: int64\n"
     ]
    }
   ],
   "source": [
    "liste_1 = [1,2,5,6,3,8]\n",
    "\n",
    "list_2 = [1,2,5,8]\n",
    "\n",
    "df_1 = pd.DataFrame([liste_1, list_2])\n",
    "\n",
    "print(df_1)\n",
    "\n",
    "\n",
    "print(df_1.isnull().sum())"
   ]
  },
  {
   "cell_type": "code",
   "execution_count": 46,
   "metadata": {},
   "outputs": [
    {
     "name": "stdout",
     "output_type": "stream",
     "text": [
      "   0  1  2  3    4    5\n",
      "0  1  2  5  6  3.0  8.0\n",
      "1  1  2  5  8  0.0  0.0\n"
     ]
    }
   ],
   "source": [
    "# remplace les valeurs manquantes par 0\n",
    "\n",
    "\n",
    "df_1.fillna(0, inplace=True )\n",
    "\n",
    "print(df_1)"
   ]
  },
  {
   "cell_type": "code",
   "execution_count": 47,
   "metadata": {},
   "outputs": [
    {
     "name": "stdout",
     "output_type": "stream",
     "text": [
      "   0  1  2  3    4    5\n",
      "0  1  2  5  6  3.0  8.0\n",
      "1  1  2  5  8  0.0  0.0\n"
     ]
    }
   ],
   "source": [
    "# supression des lignes contenant des valeurs manquantes \n",
    "\n",
    "\n",
    "df_1.dropna(inplace=True )\n",
    "\n",
    "print(df_1)"
   ]
  },
  {
   "cell_type": "code",
   "execution_count": 55,
   "metadata": {},
   "outputs": [
    {
     "name": "stdout",
     "output_type": "stream",
     "text": [
      "     Nom  Age    Ville\n",
      "0  Alice   24    Paris\n",
      "1    Bob   27  Londres\n"
     ]
    }
   ],
   "source": [
    "# Groupement des données (groupby)\n",
    "\n",
    "# Application de fonctions (apply , map ,lambda)\n",
    "\n",
    "\n",
    "# \n",
    "\n",
    "# 9. Fusion de DataFrames (merge, join)\n",
    "# Pandas offre plusieurs méthodes pour combiner des DataFrames.\n",
    "\n",
    "# Exemple avec merge() :\n",
    "# python\n",
    "\n",
    "df1 = pd.DataFrame({\n",
    "    'Nom': ['Alice', 'Bob', 'Charles'],\n",
    "    'Age': [24, 27, 22]\n",
    "})\n",
    "df2 = pd.DataFrame({\n",
    "    'Nom': ['Alice', 'Bob', 'David'],\n",
    "    'Ville': ['Paris', 'Londres', 'Berlin']\n",
    "})\n",
    "\n",
    "result = pd.merge(df1, df2, on='Nom')\n",
    "print(result)"
   ]
  },
  {
   "cell_type": "code",
   "execution_count": null,
   "metadata": {},
   "outputs": [],
   "source": [
    "# Exercice "
   ]
  }
 ],
 "metadata": {
  "kernelspec": {
   "display_name": ".env",
   "language": "python",
   "name": "python3"
  },
  "language_info": {
   "codemirror_mode": {
    "name": "ipython",
    "version": 3
   },
   "file_extension": ".py",
   "mimetype": "text/x-python",
   "name": "python",
   "nbconvert_exporter": "python",
   "pygments_lexer": "ipython3",
   "version": "3.11.5"
  }
 },
 "nbformat": 4,
 "nbformat_minor": 2
}
