{
 "cells": [
  {
   "cell_type": "code",
   "execution_count": 4,
   "metadata": {},
   "outputs": [
    {
     "name": "stdout",
     "output_type": "stream",
     "text": [
      "22.875\n",
      "écart-type : 28.422867114350023\n",
      "[-0.45298034 -0.73444385 -0.69926091  0.00439787 -0.62889503 -0.5937121\n",
      "  2.32647184  0.77842253]\n"
     ]
    }
   ],
   "source": [
    "import numpy as np \n",
    "\n",
    "data = np.array([10,2,3,23,5,6,89,45])\n",
    "\n",
    "mean = np.mean(data)\n",
    "print(f\"{mean}\")\n",
    "\n",
    "std_dev = np.std(data)\n",
    "z_scores = (data -mean ) / std_dev\n",
    "\n",
    "print(f\"écart-type : {std_dev}\")\n",
    "\n",
    "print(f\"{z_scores}\")"
   ]
  },
  {
   "cell_type": "markdown",
   "metadata": {},
   "source": [
    " ### Feature Scaling "
   ]
  },
  {
   "cell_type": "markdown",
   "metadata": {},
   "source": []
  }
 ],
 "metadata": {
  "kernelspec": {
   "display_name": ".env",
   "language": "python",
   "name": "python3"
  },
  "language_info": {
   "codemirror_mode": {
    "name": "ipython",
    "version": 3
   },
   "file_extension": ".py",
   "mimetype": "text/x-python",
   "name": "python",
   "nbconvert_exporter": "python",
   "pygments_lexer": "ipython3",
   "version": "3.11.5"
  }
 },
 "nbformat": 4,
 "nbformat_minor": 2
}
