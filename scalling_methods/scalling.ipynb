{
 "cells": [
  {
   "cell_type": "code",
   "execution_count": 3,
   "metadata": {},
   "outputs": [
    {
     "name": "stdout",
     "output_type": "stream",
     "text": [
      "22.875\n",
      "écart-type : 28.422867114350023\n",
      "[-0.45298034 -0.73444385 -0.69926091  0.00439787 -0.62889503 -0.5937121\n",
      "  2.32647184  0.77842253]\n"
     ]
    }
   ],
   "source": [
    "import numpy as np \n",
    "import pandas as pd \n",
    "import math , copy \n",
    "import matplotlib.pyplot as plt \n",
    "\n",
    "\n",
    "data = np.array([10,2,3,23,5,6,89,45])\n",
    "\n",
    "mean = np.mean(data)\n",
    "print(f\"{mean}\")\n",
    "\n",
    "std_dev = np.std(data)\n",
    "z_scores = (data -mean ) / std_dev\n",
    "\n",
    "print(f\"écart-type : {std_dev}\")\n",
    "\n",
    "print(f\"{z_scores}\")"
   ]
  },
  {
   "cell_type": "markdown",
   "metadata": {},
   "source": [
    " ### Feature Scaling \n",
    "\n",
    " Application des trois methodes de scaling à un ensemble de données à\n",
    " partir d'un fichier CSV \n",
    "\n",
    " ### Standardization \n",
    " ### Min-Max  Scaling \n",
    " ### MaxAbs Scaling "
   ]
  },
  {
   "cell_type": "code",
   "execution_count": 4,
   "metadata": {},
   "outputs": [
    {
     "name": "stdout",
     "output_type": "stream",
     "text": [
      "     Home   Price  SqFt  Bedrooms  Bathrooms  Offers Brick Neighborhood\n",
      "0       1  114300  1790         2          2       2    No         East\n",
      "1       2  114200  2030         4          2       3    No         East\n",
      "2       3  114800  1740         3          2       1    No         East\n",
      "3       4   94700  1980         3          2       3    No         East\n",
      "4       5  119800  2130         3          3       3    No         East\n",
      "..    ...     ...   ...       ...        ...     ...   ...          ...\n",
      "123   124  119700  1900         3          3       3   Yes         East\n",
      "124   125  147900  2160         4          3       3   Yes         East\n",
      "125   126  113500  2070         2          2       2    No        North\n",
      "126   127  149900  2020         3          3       1    No         West\n",
      "127   128  124600  2250         3          3       4    No        North\n",
      "\n",
      "[128 rows x 8 columns]\n"
     ]
    }
   ],
   "source": [
    "df = pd.read_csv('house-prices.csv')\n",
    "\n",
    "print(df)"
   ]
  },
  {
   "cell_type": "code",
   "execution_count": null,
   "metadata": {},
   "outputs": [],
   "source": []
  }
 ],
 "metadata": {
  "kernelspec": {
   "display_name": ".env",
   "language": "python",
   "name": "python3"
  },
  "language_info": {
   "codemirror_mode": {
    "name": "ipython",
    "version": 3
   },
   "file_extension": ".py",
   "mimetype": "text/x-python",
   "name": "python",
   "nbconvert_exporter": "python",
   "pygments_lexer": "ipython3",
   "version": "3.11.5"
  }
 },
 "nbformat": 4,
 "nbformat_minor": 2
}
