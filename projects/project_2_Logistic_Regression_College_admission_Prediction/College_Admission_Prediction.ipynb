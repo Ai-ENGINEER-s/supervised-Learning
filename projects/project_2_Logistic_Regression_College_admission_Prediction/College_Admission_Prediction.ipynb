{
 "cells": [
  {
   "cell_type": "markdown",
   "metadata": {},
   "source": [
    "# College Admission Prediction using Logistic regression \n",
    "\n",
    "### Predict whether a student will be accepted into a university based on their academic performance, standardized tests, etc.\n"
   ]
  },
  {
   "cell_type": "markdown",
   "metadata": {},
   "source": [
    "### Analyse des colonnes du dataset :\n",
    "GPA : Le score moyen académique de l'étudiant (variable numérique).\n",
    "SAT_Score : Le score de l'examen SAT (variable numérique).\n",
    "Extracurricular_Activities : Le nombre d'activités parascolaires (variable numérique).\n",
    "Admission_Status : La colonne cible que tu souhaites prédire, qui est binaire (Rejected ou Accepted)."
   ]
  },
  {
   "cell_type": "markdown",
   "metadata": {},
   "source": [
    "## Logistic regression algorithm implemented manually "
   ]
  },
  {
   "cell_type": "code",
   "execution_count": 2,
   "metadata": {},
   "outputs": [],
   "source": [
    "import numpy as np \n",
    "import matplotlib.pyplot as plt \n",
    "import math , copy \n",
    "import pandas as pd "
   ]
  },
  {
   "cell_type": "markdown",
   "metadata": {},
   "source": [
    "## For multiple features  : Regression Logistic "
   ]
  },
  {
   "cell_type": "markdown",
   "metadata": {},
   "source": [
    "### Sigmoid Funciton "
   ]
  },
  {
   "cell_type": "code",
   "execution_count": 3,
   "metadata": {},
   "outputs": [],
   "source": [
    "def sigmoid(z):\n",
    "\n",
    "    z = 1 /(1+np.exp(-z))\n",
    "\n",
    "    return z \n"
   ]
  },
  {
   "cell_type": "markdown",
   "metadata": {},
   "source": [
    "#### Cost function for logistic regression "
   ]
  },
  {
   "cell_type": "code",
   "execution_count": 4,
   "metadata": {},
   "outputs": [],
   "source": [
    "def cost_logistic_function(x , y , w ,b ):\n",
    "\n",
    "\n",
    "    m = x.shape[0]  # number of training set \n",
    "    Z = np.dot(x , w) +b   # compute of Z vector of all examples \n",
    "\n",
    "    fx = sigmoid(Z)   # prediction for all training set function \n",
    "\n",
    "    # add an epsilon number to avoid logarithmic computing errors \n",
    "\n",
    "    epsilon = 1e-15\n",
    "\n",
    "    cost = -(1/m)* (y* np.log(fx +epsilon) + (1-y)*np.log(1-fx +epsilon))\n",
    "\n",
    "    return cost \n",
    "\n"
   ]
  },
  {
   "cell_type": "markdown",
   "metadata": {},
   "source": [
    "#### Computing gradient descent for logistic regression "
   ]
  },
  {
   "cell_type": "code",
   "execution_count": 5,
   "metadata": {},
   "outputs": [],
   "source": [
    "def   compute_gradient_logistic_regression(x , y , w , b):\n",
    "\n",
    "\n",
    "    m = x.shape[0]\n",
    "    n = len(w)\n",
    "\n",
    "    dj_dw = np.zeros(n)\n",
    "\n",
    "    dj_db = 0.0\n",
    "\n",
    "    for i in range(m):\n",
    " \n",
    "        f_wb_i = np.dot(x[i], w)+ b \n",
    "\n",
    "        err = f_wb_i - y[i]\n",
    "\n",
    "        for j in range(n):\n",
    "\n",
    "            dj_dw[j]+= x[i, j] * err\n",
    "        \n",
    "        dj_db+=err \n",
    "    dj_dw /= m \n",
    "\n",
    "    dj_db /=m \n",
    "\n",
    "    return dj_dw , dj_db\n"
   ]
  },
  {
   "cell_type": "code",
   "execution_count": 3,
   "metadata": {},
   "outputs": [
    {
     "name": "stdout",
     "output_type": "stream",
     "text": [
      "Gradient dj_dw: [0.20880354 0.28202357]\n",
      "Gradient dj_db: 0.2088035373706076\n"
     ]
    }
   ],
   "source": [
    "import numpy as np\n",
    "\n",
    "def sigmoid(z):\n",
    "    return 1 / (1 + np.exp(-z))\n",
    "\n",
    "def compute_gradient_logistic_regression(X, y, w, b):\n",
    "    \"\"\"\n",
    "    X : np.array de taille (m, n) -> m exemples, n caractéristiques\n",
    "    y : np.array de taille (m,) -> étiquettes de chaque exemple (0 ou 1)\n",
    "    w : np.array de taille (n,) -> poids (coefficients)\n",
    "    b : scalaire -> biais\n",
    "    \"\"\"\n",
    "    m = X.shape[0]  # Nombre d'exemples\n",
    "    n = X.shape[1]  # Nombre de features\n",
    "\n",
    "    # Calcul des prédictions pour tous les exemples\n",
    "    Z = np.dot(X, w) + b  # Z = X @ w + b\n",
    "    f_wb = sigmoid(Z)     # f_wb est un vecteur de probabilités (sigmoïde appliquée à Z)\n",
    "\n",
    "    # Erreur entre les prédictions et les vraies valeurs\n",
    "    error = f_wb - y      # error est un vecteur de taille (m,)\n",
    "\n",
    "    # Calcul du gradient par rapport à w (vectorisé)\n",
    "    dj_dw = (1/m) * np.dot(X.T, error)  # X.T est de taille (n, m), error est de taille (m,)\n",
    "    \n",
    "    # Calcul du gradient par rapport à b (scalaire)\n",
    "    dj_db = (1/m) * np.sum(error)\n",
    "\n",
    "    return dj_dw, dj_db\n",
    "\n",
    "\n",
    "\n",
    "\n",
    "# Données factices\n",
    "X = np.array([[1, 2], [1, 3], [1, 4], [1, 5]])  # 4 exemples, 2 caractéristiques\n",
    "y = np.array([0, 0, 1, 1])  # Étiquettes correspondantes\n",
    "w = np.array([0.1, 0.2])    # Poids initialisés\n",
    "b = 0.1                     # Biais initialisé\n",
    "\n",
    "# Calcul des gradients\n",
    "dj_dw, dj_db = compute_gradient_logistic_regression(X, y, w, b)\n",
    "\n",
    "print(\"Gradient dj_dw:\", dj_dw)\n",
    "print(\"Gradient dj_db:\", dj_db)\n"
   ]
  },
  {
   "cell_type": "markdown",
   "metadata": {},
   "source": [
    "#### Gradient descent for logistic regression , find parameters w and b for building logistic regression model "
   ]
  },
  {
   "cell_type": "code",
   "execution_count": 6,
   "metadata": {},
   "outputs": [],
   "source": [
    "\n",
    "def gradient_descent_logistic_regression(x , y , w_in , b_in , alpha , number_iterations):\n",
    "\n",
    "\n",
    "    w = copy.deepcopy(w_in)\n",
    "    b = b_in\n",
    "    j_cost_history = []\n",
    "\n",
    "    for i in range(number_iterations):\n",
    "\n",
    "        # computing gradient descent to dj_dw , dj_db \n",
    "        dj_db , dj_dw = compute_gradient_logistic_regression(x , y ,w ,b )\n",
    "\n",
    "        # cost value \n",
    "\n",
    "        cost = cost_function_logistic_regression(x , y , w , b)\n",
    "\n",
    "        # update the parameters of the model \n",
    "\n",
    "        w = w - alpha * dj_dw\n",
    "        b = b - alpha * dj_db\n",
    "\n",
    "        if i % number_iterations ==0:\n",
    "\n",
    "            j_cost_history.append(cost)\n",
    "\n",
    "            print(f\"{i}:{cost}\")\n",
    "    \n",
    "\n",
    "    return w , b , j_cost_history\n",
    "\n",
    "\n",
    "\n",
    "\n"
   ]
  },
  {
   "cell_type": "markdown",
   "metadata": {},
   "source": [
    "#### Logistic regression model "
   ]
  },
  {
   "cell_type": "code",
   "execution_count": 7,
   "metadata": {},
   "outputs": [],
   "source": [
    "def logistic_regression_model(x,w ,b):\n",
    "\n",
    "    z = np.dot(x, w) + b \n",
    "\n",
    "    lr_model = sigmoid(z)\n",
    "\n",
    "    return lr_model"
   ]
  },
  {
   "cell_type": "markdown",
   "metadata": {},
   "source": [
    "#### test of our model with college admission data "
   ]
  },
  {
   "cell_type": "code",
   "execution_count": 16,
   "metadata": {},
   "outputs": [
    {
     "name": "stdout",
     "output_type": "stream",
     "text": [
      "    GPA  SAT_Score  Extracurricular_Activities Admission_Status\n",
      "0  3.46       1223                           8         Rejected\n",
      "1  2.54        974                           8         Rejected\n",
      "2  2.91        909                           9         Rejected\n",
      "3  2.83       1369                           5         Accepted\n",
      "4  3.60       1536                           7         Accepted \n",
      "\n",
      "    GPA  SAT_Score  Extracurricular_Activities  Admission_Status\n",
      "0  3.46       1223                           8                 1\n",
      "1  2.54        974                           8                 1\n",
      "2  2.91        909                           9                 1\n",
      "3  2.83       1369                           5                 0\n",
      "4  3.60       1536                           7                 0\n",
      "    GPA  SAT_Score  Extracurricular_Activities\n",
      "0  3.46       1223                           8\n",
      "1  2.54        974                           8\n",
      "2  2.91        909                           9\n",
      "3  2.83       1369                           5\n",
      "4  3.60       1536                           7\n"
     ]
    }
   ],
   "source": [
    "# sciki-learn library \n",
    "from sklearn.preprocessing import LabelEncoder\n",
    "\n",
    "df = pd.read_csv('student_admission_dataset.csv')\n",
    "\n",
    "print(f\"{df.head()} \\n\")\n",
    "\n",
    "le = LabelEncoder()\n",
    "df['Admission_Status'] = le.fit_transform(df['Admission_Status']) \n",
    "\n",
    "print(df.head())\n",
    "\n",
    "\n",
    "y = df['Admission_Status'].values \n",
    "x = df.drop('Admission_Status', axis=1)\n",
    "\n",
    "print(f\"{x.head()}\")"
   ]
  },
  {
   "cell_type": "code",
   "execution_count": null,
   "metadata": {},
   "outputs": [],
   "source": [
    "def sigmoid(z): \n",
    "\n",
    "    return (1/(1+np.exp(-z)))\n",
    "\n",
    "\n",
    "def logistic_cost_function(x , y , w , b ):\n",
    "\n",
    "    m = x.shape[0]\n",
    "    cost = 0.0\n",
    "\n",
    "\n",
    "    for i in range(m): \n",
    "\n",
    "        Z = np.dot(x[i], w)\n",
    "        fx = sigmoid(Z)\n",
    "\n",
    "        f_w_i = fx - y[i]\n",
    "\n",
    "        cost += f_w_i**2\n",
    "\n",
    "    cost/= 2*m \n",
    "\n",
    "\n",
    "    return cost "
   ]
  },
  {
   "cell_type": "markdown",
   "metadata": {},
   "source": [
    "#### Nettoyage des données "
   ]
  },
  {
   "cell_type": "code",
   "execution_count": 17,
   "metadata": {},
   "outputs": [
    {
     "name": "stdout",
     "output_type": "stream",
     "text": [
      "GPA                           0\n",
      "SAT_Score                     0\n",
      "Extracurricular_Activities    0\n",
      "Admission_Status              0\n",
      "dtype: int64\n"
     ]
    }
   ],
   "source": [
    "print(df.isnull().sum())"
   ]
  },
  {
   "cell_type": "code",
   "execution_count": 1,
   "metadata": {},
   "outputs": [
    {
     "name": "stdout",
     "output_type": "stream",
     "text": [
      "Le coût initial est : 0.6931471805599452\n"
     ]
    }
   ],
   "source": [
    "import numpy as np\n",
    "\n",
    "def sigmoid(z):\n",
    "    return 1 / (1 + np.exp(-z))\n",
    "\n",
    "def cost_function(theta, X, y):\n",
    "    m = len(y)  # Nombre d'exemples d'entraînement\n",
    "    h = sigmoid(X @ theta)  # Prédictions utilisant la fonction sigmoïde\n",
    "    # Calcul de la fonction de coût\n",
    "    cost = (1/m) * (-y.T @ np.log(h) - (1 - y).T @ np.log(1 - h))\n",
    "    return cost\n",
    "\n",
    "# Exemple d'utilisation\n",
    "# X : matrice des caractéristiques (avec une colonne de 1 pour l'interception)\n",
    "# y : vecteur des étiquettes (0 ou 1)\n",
    "# theta : vecteur des paramètres (initialement peut être un vecteur de zéros)\n",
    "\n",
    "X = np.array([[1, 0.1, 0.6], [1, 0.2, 0.9], [1, 0.4, 0.8]])  # 3 exemples, 2 caractéristiques (+ intercept)\n",
    "y = np.array([0, 1, 1])  # Étiquettes\n",
    "theta = np.zeros(X.shape[1])  # Paramètres initialisés à 0\n",
    "\n",
    "cost = cost_function(theta, X, y)\n",
    "print(f\"Le coût initial est : {cost}\")\n"
   ]
  },
  {
   "cell_type": "code",
   "execution_count": 18,
   "metadata": {},
   "outputs": [
    {
     "ename": "KeyError",
     "evalue": "0",
     "output_type": "error",
     "traceback": [
      "\u001b[1;31m---------------------------------------------------------------------------\u001b[0m",
      "\u001b[1;31mKeyError\u001b[0m                                  Traceback (most recent call last)",
      "File \u001b[1;32mc:\\Users\\BARRY\\Desktop\\supervised-Learning\\.env\\Lib\\site-packages\\pandas\\core\\indexes\\base.py:3805\u001b[0m, in \u001b[0;36mIndex.get_loc\u001b[1;34m(self, key)\u001b[0m\n\u001b[0;32m   3804\u001b[0m \u001b[38;5;28;01mtry\u001b[39;00m:\n\u001b[1;32m-> 3805\u001b[0m     \u001b[38;5;28;01mreturn\u001b[39;00m \u001b[38;5;28;43mself\u001b[39;49m\u001b[38;5;241;43m.\u001b[39;49m\u001b[43m_engine\u001b[49m\u001b[38;5;241;43m.\u001b[39;49m\u001b[43mget_loc\u001b[49m\u001b[43m(\u001b[49m\u001b[43mcasted_key\u001b[49m\u001b[43m)\u001b[49m\n\u001b[0;32m   3806\u001b[0m \u001b[38;5;28;01mexcept\u001b[39;00m \u001b[38;5;167;01mKeyError\u001b[39;00m \u001b[38;5;28;01mas\u001b[39;00m err:\n",
      "File \u001b[1;32mindex.pyx:167\u001b[0m, in \u001b[0;36mpandas._libs.index.IndexEngine.get_loc\u001b[1;34m()\u001b[0m\n",
      "File \u001b[1;32mindex.pyx:196\u001b[0m, in \u001b[0;36mpandas._libs.index.IndexEngine.get_loc\u001b[1;34m()\u001b[0m\n",
      "File \u001b[1;32mpandas\\\\_libs\\\\hashtable_class_helper.pxi:7081\u001b[0m, in \u001b[0;36mpandas._libs.hashtable.PyObjectHashTable.get_item\u001b[1;34m()\u001b[0m\n",
      "File \u001b[1;32mpandas\\\\_libs\\\\hashtable_class_helper.pxi:7089\u001b[0m, in \u001b[0;36mpandas._libs.hashtable.PyObjectHashTable.get_item\u001b[1;34m()\u001b[0m\n",
      "\u001b[1;31mKeyError\u001b[0m: 0",
      "\nThe above exception was the direct cause of the following exception:\n",
      "\u001b[1;31mKeyError\u001b[0m                                  Traceback (most recent call last)",
      "Cell \u001b[1;32mIn[18], line 6\u001b[0m\n\u001b[0;32m      2\u001b[0m b_in \u001b[38;5;241m=\u001b[39m \u001b[38;5;241m10\u001b[39m\n\u001b[0;32m      4\u001b[0m number_of_iteration \u001b[38;5;241m=\u001b[39m \u001b[38;5;241m10000\u001b[39m\n\u001b[1;32m----> 6\u001b[0m cost \u001b[38;5;241m=\u001b[39m \u001b[43mcost_function_logistic_regression\u001b[49m\u001b[43m(\u001b[49m\u001b[43mx\u001b[49m\u001b[43m \u001b[49m\u001b[43m,\u001b[49m\u001b[43m \u001b[49m\u001b[43my\u001b[49m\u001b[43m,\u001b[49m\u001b[43m \u001b[49m\u001b[43mw_in\u001b[49m\u001b[43m \u001b[49m\u001b[43m,\u001b[49m\u001b[43m \u001b[49m\u001b[43mb_in\u001b[49m\u001b[43m)\u001b[49m\n\u001b[0;32m      8\u001b[0m \u001b[38;5;28mprint\u001b[39m(\u001b[38;5;124mf\u001b[39m\u001b[38;5;124m\"\u001b[39m\u001b[38;5;124mcost value : \u001b[39m\u001b[38;5;132;01m{\u001b[39;00mcost\u001b[38;5;132;01m}\u001b[39;00m\u001b[38;5;124m\"\u001b[39m)\n",
      "Cell \u001b[1;32mIn[4], line 9\u001b[0m, in \u001b[0;36mcost_function_logistic_regression\u001b[1;34m(x, y, w, b)\u001b[0m\n\u001b[0;32m      4\u001b[0m cost \u001b[38;5;241m=\u001b[39m \u001b[38;5;241m0.0\u001b[39m\n\u001b[0;32m      7\u001b[0m \u001b[38;5;28;01mfor\u001b[39;00m i \u001b[38;5;129;01min\u001b[39;00m \u001b[38;5;28mrange\u001b[39m(m):\n\u001b[1;32m----> 9\u001b[0m     f_wb_i \u001b[38;5;241m=\u001b[39m np\u001b[38;5;241m.\u001b[39mdot(\u001b[43mx\u001b[49m\u001b[43m[\u001b[49m\u001b[43mi\u001b[49m\u001b[43m]\u001b[49m, w) \u001b[38;5;241m+\u001b[39mb \n\u001b[0;32m     11\u001b[0m     err \u001b[38;5;241m=\u001b[39m sigmoid(f_wb_i) \u001b[38;5;241m-\u001b[39m y [i]\n\u001b[0;32m     12\u001b[0m     cost\u001b[38;5;241m+\u001b[39m\u001b[38;5;241m=\u001b[39m err\u001b[38;5;241m*\u001b[39m\u001b[38;5;241m*\u001b[39m\u001b[38;5;241m2\u001b[39m \n",
      "File \u001b[1;32mc:\\Users\\BARRY\\Desktop\\supervised-Learning\\.env\\Lib\\site-packages\\pandas\\core\\frame.py:4102\u001b[0m, in \u001b[0;36mDataFrame.__getitem__\u001b[1;34m(self, key)\u001b[0m\n\u001b[0;32m   4100\u001b[0m \u001b[38;5;28;01mif\u001b[39;00m \u001b[38;5;28mself\u001b[39m\u001b[38;5;241m.\u001b[39mcolumns\u001b[38;5;241m.\u001b[39mnlevels \u001b[38;5;241m>\u001b[39m \u001b[38;5;241m1\u001b[39m:\n\u001b[0;32m   4101\u001b[0m     \u001b[38;5;28;01mreturn\u001b[39;00m \u001b[38;5;28mself\u001b[39m\u001b[38;5;241m.\u001b[39m_getitem_multilevel(key)\n\u001b[1;32m-> 4102\u001b[0m indexer \u001b[38;5;241m=\u001b[39m \u001b[38;5;28;43mself\u001b[39;49m\u001b[38;5;241;43m.\u001b[39;49m\u001b[43mcolumns\u001b[49m\u001b[38;5;241;43m.\u001b[39;49m\u001b[43mget_loc\u001b[49m\u001b[43m(\u001b[49m\u001b[43mkey\u001b[49m\u001b[43m)\u001b[49m\n\u001b[0;32m   4103\u001b[0m \u001b[38;5;28;01mif\u001b[39;00m is_integer(indexer):\n\u001b[0;32m   4104\u001b[0m     indexer \u001b[38;5;241m=\u001b[39m [indexer]\n",
      "File \u001b[1;32mc:\\Users\\BARRY\\Desktop\\supervised-Learning\\.env\\Lib\\site-packages\\pandas\\core\\indexes\\base.py:3812\u001b[0m, in \u001b[0;36mIndex.get_loc\u001b[1;34m(self, key)\u001b[0m\n\u001b[0;32m   3807\u001b[0m     \u001b[38;5;28;01mif\u001b[39;00m \u001b[38;5;28misinstance\u001b[39m(casted_key, \u001b[38;5;28mslice\u001b[39m) \u001b[38;5;129;01mor\u001b[39;00m (\n\u001b[0;32m   3808\u001b[0m         \u001b[38;5;28misinstance\u001b[39m(casted_key, abc\u001b[38;5;241m.\u001b[39mIterable)\n\u001b[0;32m   3809\u001b[0m         \u001b[38;5;129;01mand\u001b[39;00m \u001b[38;5;28many\u001b[39m(\u001b[38;5;28misinstance\u001b[39m(x, \u001b[38;5;28mslice\u001b[39m) \u001b[38;5;28;01mfor\u001b[39;00m x \u001b[38;5;129;01min\u001b[39;00m casted_key)\n\u001b[0;32m   3810\u001b[0m     ):\n\u001b[0;32m   3811\u001b[0m         \u001b[38;5;28;01mraise\u001b[39;00m InvalidIndexError(key)\n\u001b[1;32m-> 3812\u001b[0m     \u001b[38;5;28;01mraise\u001b[39;00m \u001b[38;5;167;01mKeyError\u001b[39;00m(key) \u001b[38;5;28;01mfrom\u001b[39;00m \u001b[38;5;21;01merr\u001b[39;00m\n\u001b[0;32m   3813\u001b[0m \u001b[38;5;28;01mexcept\u001b[39;00m \u001b[38;5;167;01mTypeError\u001b[39;00m:\n\u001b[0;32m   3814\u001b[0m     \u001b[38;5;66;03m# If we have a listlike key, _check_indexing_error will raise\u001b[39;00m\n\u001b[0;32m   3815\u001b[0m     \u001b[38;5;66;03m#  InvalidIndexError. Otherwise we fall through and re-raise\u001b[39;00m\n\u001b[0;32m   3816\u001b[0m     \u001b[38;5;66;03m#  the TypeError.\u001b[39;00m\n\u001b[0;32m   3817\u001b[0m     \u001b[38;5;28mself\u001b[39m\u001b[38;5;241m.\u001b[39m_check_indexing_error(key)\n",
      "\u001b[1;31mKeyError\u001b[0m: 0"
     ]
    }
   ],
   "source": [
    "w_in  =(0.2, 0.8, 2)\n",
    "b_in = 10\n",
    "\n",
    "number_of_iteration = 10000\n",
    "\n",
    "cost = cost_function_logistic_regression(x , y, w_in , b_in)\n",
    "\n",
    "print(f\"cost value : {cost}\")\n",
    "\n"
   ]
  },
  {
   "cell_type": "code",
   "execution_count": null,
   "metadata": {},
   "outputs": [],
   "source": []
  }
 ],
 "metadata": {
  "kernelspec": {
   "display_name": ".env",
   "language": "python",
   "name": "python3"
  },
  "language_info": {
   "codemirror_mode": {
    "name": "ipython",
    "version": 3
   },
   "file_extension": ".py",
   "mimetype": "text/x-python",
   "name": "python",
   "nbconvert_exporter": "python",
   "pygments_lexer": "ipython3",
   "version": "3.11.5"
  }
 },
 "nbformat": 4,
 "nbformat_minor": 2
}
