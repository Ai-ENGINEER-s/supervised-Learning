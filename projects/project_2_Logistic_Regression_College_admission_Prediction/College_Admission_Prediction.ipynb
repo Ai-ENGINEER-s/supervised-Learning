{
 "cells": [
  {
   "cell_type": "markdown",
   "metadata": {},
   "source": [
    "# College Admission Prediction using Logistic regression \n",
    "\n",
    "### Predict whether a student will be accepted into a university based on their academic performance, standardized tests, etc.\n"
   ]
  },
  {
   "cell_type": "markdown",
   "metadata": {},
   "source": [
    "### Analyse des colonnes du dataset :\n",
    "GPA : Le score moyen académique de l'étudiant (variable numérique).\n",
    "SAT_Score : Le score de l'examen SAT (variable numérique).\n",
    "Extracurricular_Activities : Le nombre d'activités parascolaires (variable numérique).\n",
    "Admission_Status : La colonne cible que tu souhaites prédire, qui est binaire (Rejected ou Accepted)."
   ]
  },
  {
   "cell_type": "markdown",
   "metadata": {},
   "source": [
    "## Logistic regression algorithm implemented manually "
   ]
  },
  {
   "cell_type": "code",
   "execution_count": 2,
   "metadata": {},
   "outputs": [],
   "source": [
    "import numpy as np \n",
    "import matplotlib.pyplot as plt \n",
    "import math , copy \n",
    "\n",
    "\n"
   ]
  },
  {
   "cell_type": "markdown",
   "metadata": {},
   "source": [
    "## For multiple features  : Regression Logistic "
   ]
  },
  {
   "cell_type": "markdown",
   "metadata": {},
   "source": [
    "### Sigmoid Funciton "
   ]
  },
  {
   "cell_type": "code",
   "execution_count": 3,
   "metadata": {},
   "outputs": [],
   "source": [
    "def sigmoid(z):\n",
    "\n",
    "    z = 1 /(1+np.exp(-z))\n",
    "\n",
    "    return z \n"
   ]
  },
  {
   "cell_type": "markdown",
   "metadata": {},
   "source": [
    "#### Cost function for logistic regression "
   ]
  },
  {
   "cell_type": "code",
   "execution_count": 4,
   "metadata": {},
   "outputs": [],
   "source": [
    "def cost_function_logistic_regression(x , y , w , b):\n",
    "\n",
    "    m = x.shape[0]\n",
    "    cost = 0.0\n",
    "\n",
    "\n",
    "    for i in range(m):\n",
    "\n",
    "        f_wb_i = np.dot(x[i], w) +b \n",
    "\n",
    "        err = sigmoid(f_wb_i) - y [i]\n",
    "        cost+= err**2 \n",
    "    \n",
    "    return cost \n",
    "\n",
    "\n"
   ]
  },
  {
   "cell_type": "markdown",
   "metadata": {},
   "source": [
    "#### Computing gradient descent for logistic regression "
   ]
  },
  {
   "cell_type": "code",
   "execution_count": 5,
   "metadata": {},
   "outputs": [],
   "source": [
    "def   compute_gradient_logistic_regression(x , y , w , b):\n",
    "\n",
    "\n",
    "    m = x.shape[0]\n",
    "    n = len(w)\n",
    "\n",
    "    dj_dw = np.zeros(n)\n",
    "\n",
    "    dj_db = 0.0\n",
    "\n",
    "    for i in range(m):\n",
    "\n",
    "        f_wb_i = np.dot(x[i], w)+ b \n",
    "\n",
    "        err = f_wb_i - y[i]\n",
    "\n",
    "        for j in range(n):\n",
    "\n",
    "            dj_dw[j]+= x[i, j] * err\n",
    "        \n",
    "        dj_db+=err \n",
    "    dj_dw /= m \n",
    "\n",
    "    dj_db /=m \n",
    "\n",
    "\n",
    "    return dj_dw , dj_db"
   ]
  },
  {
   "cell_type": "markdown",
   "metadata": {},
   "source": [
    "#### Gradient descent for logistic regression , find parameters w and b for building logistic regression model "
   ]
  },
  {
   "cell_type": "code",
   "execution_count": 7,
   "metadata": {},
   "outputs": [],
   "source": [
    "\n",
    "def gradient_descent_logistic_regression(x , y , w_in , b_in , alpha , number_iterations):\n",
    "\n",
    "\n",
    "    w = copy.deepcopy(w_in)\n",
    "    b = b_in\n",
    "    j_cost_history = []\n",
    "\n",
    "    for i in range(number_iterations):\n",
    "\n",
    "        # computing gradient descent to dj_dw , dj_db \n",
    "        dj_db , dj_dw = compute_gradient_logistic_regression(x , y ,w ,b )\n",
    "\n",
    "        # cost value \n",
    "\n",
    "        cost = cost_function_logistic_regression(x , y , w , b)\n",
    "\n",
    "        # update the parameters of the model \n",
    "\n",
    "        w = w - alpha * dj_dw\n",
    "        b = b - alpha * dj_db\n",
    "\n",
    "        if i % number_iterations ==0:\n",
    "\n",
    "            j_cost_history.append(cost)\n",
    "\n",
    "            print(f\"{i}:{cost}\")\n",
    "    \n",
    "\n",
    "    return w , b , j_cost_history\n",
    "\n",
    "\n",
    "\n",
    "\n"
   ]
  },
  {
   "cell_type": "markdown",
   "metadata": {},
   "source": [
    "#### Logistic regression model "
   ]
  },
  {
   "cell_type": "code",
   "execution_count": 8,
   "metadata": {},
   "outputs": [],
   "source": [
    "def logistic_regression_model(x,w ,b):\n",
    "\n",
    "    z = np.dot(x, w) + b \n",
    "\n",
    "    lr_model = sigmoid(z)\n",
    "\n",
    "    return lr_model "
   ]
  },
  {
   "cell_type": "code",
   "execution_count": null,
   "metadata": {},
   "outputs": [],
   "source": []
  }
 ],
 "metadata": {
  "kernelspec": {
   "display_name": ".env",
   "language": "python",
   "name": "python3"
  },
  "language_info": {
   "codemirror_mode": {
    "name": "ipython",
    "version": 3
   },
   "file_extension": ".py",
   "mimetype": "text/x-python",
   "name": "python",
   "nbconvert_exporter": "python",
   "pygments_lexer": "ipython3",
   "version": "3.11.5"
  }
 },
 "nbformat": 4,
 "nbformat_minor": 2
}
