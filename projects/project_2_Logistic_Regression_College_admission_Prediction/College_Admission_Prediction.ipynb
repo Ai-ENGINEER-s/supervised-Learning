{
 "cells": [
  {
   "cell_type": "markdown",
   "metadata": {},
   "source": [
    "# College Admission Prediction using Logistic regression \n",
    "\n",
    "### Predict whether a student will be accepted into a university based on their academic performance, standardized tests, etc.\n"
   ]
  },
  {
   "cell_type": "markdown",
   "metadata": {},
   "source": [
    "### Analyse des colonnes du dataset :\n",
    "GPA : Le score moyen académique de l'étudiant (variable numérique).\n",
    "SAT_Score : Le score de l'examen SAT (variable numérique).\n",
    "Extracurricular_Activities : Le nombre d'activités parascolaires (variable numérique).\n",
    "Admission_Status : La colonne cible que tu souhaites prédire, qui est binaire (Rejected ou Accepted)."
   ]
  },
  {
   "cell_type": "markdown",
   "metadata": {},
   "source": [
    "## Logistic regression algorithm implemented manually "
   ]
  },
  {
   "cell_type": "code",
   "execution_count": 2,
   "metadata": {},
   "outputs": [],
   "source": [
    "import numpy as np \n",
    "import matplotlib.pyplot as plt \n",
    "import math , copy \n",
    "\n"
   ]
  },
  {
   "cell_type": "code",
   "execution_count": null,
   "metadata": {},
   "outputs": [],
   "source": []
  }
 ],
 "metadata": {
  "kernelspec": {
   "display_name": ".env",
   "language": "python",
   "name": "python3"
  },
  "language_info": {
   "codemirror_mode": {
    "name": "ipython",
    "version": 3
   },
   "file_extension": ".py",
   "mimetype": "text/x-python",
   "name": "python",
   "nbconvert_exporter": "python",
   "pygments_lexer": "ipython3",
   "version": "3.11.5"
  }
 },
 "nbformat": 4,
 "nbformat_minor": 2
}
