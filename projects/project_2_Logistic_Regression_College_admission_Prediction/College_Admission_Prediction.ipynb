{
 "cells": [
  {
   "cell_type": "markdown",
   "metadata": {},
   "source": [
    "# College Admission Prediction using Logistic regression \n",
    "\n",
    "### Predict whether a student will be accepted into a university based on their academic performance, standardized tests, etc.\n"
   ]
  },
  {
   "cell_type": "markdown",
   "metadata": {},
   "source": [
    "### Analyse des colonnes du dataset :\n",
    "GPA : Le score moyen académique de l'étudiant (variable numérique).\n",
    "SAT_Score : Le score de l'examen SAT (variable numérique).\n",
    "Extracurricular_Activities : Le nombre d'activités parascolaires (variable numérique).\n",
    "Admission_Status : La colonne cible que tu souhaites prédire, qui est binaire (Rejected ou Accepted)."
   ]
  },
  {
   "cell_type": "markdown",
   "metadata": {},
   "source": [
    "## Logistic regression algorithm implemented manually "
   ]
  },
  {
   "cell_type": "code",
   "execution_count": 11,
   "metadata": {},
   "outputs": [],
   "source": [
    "import numpy as np \n",
    "import matplotlib.pyplot as plt \n",
    "import math , copy \n",
    "import pandas as pd "
   ]
  },
  {
   "cell_type": "markdown",
   "metadata": {},
   "source": [
    "## For multiple features  : Regression Logistic "
   ]
  },
  {
   "cell_type": "markdown",
   "metadata": {},
   "source": [
    "### Sigmoid Funciton "
   ]
  },
  {
   "cell_type": "code",
   "execution_count": 12,
   "metadata": {},
   "outputs": [],
   "source": [
    "def sigmoid(z):\n",
    "\n",
    "    z = 1 /(1+np.exp(-z))\n",
    "\n",
    "    return z \n"
   ]
  },
  {
   "cell_type": "markdown",
   "metadata": {},
   "source": [
    "#### Cost function for logistic regression "
   ]
  },
  {
   "cell_type": "code",
   "execution_count": 13,
   "metadata": {},
   "outputs": [],
   "source": [
    "def cost_function_logistic_regression(x , y , w , b):\n",
    "\n",
    "    m = x.shape[0]\n",
    "    cost = 0.0\n",
    "\n",
    "\n",
    "    for i in range(m):\n",
    "\n",
    "        f_wb_i = np.dot(x[i], w) +b \n",
    "\n",
    "        err = sigmoid(f_wb_i) - y [i]\n",
    "        cost+= err**2 \n",
    "    \n",
    "    return cost \n",
    "\n",
    "\n"
   ]
  },
  {
   "cell_type": "markdown",
   "metadata": {},
   "source": [
    "#### Computing gradient descent for logistic regression "
   ]
  },
  {
   "cell_type": "code",
   "execution_count": 14,
   "metadata": {},
   "outputs": [],
   "source": [
    "def   compute_gradient_logistic_regression(x , y , w , b):\n",
    "\n",
    "\n",
    "    m = x.shape[0]\n",
    "    n = len(w)\n",
    "\n",
    "    dj_dw = np.zeros(n)\n",
    "\n",
    "    dj_db = 0.0\n",
    "\n",
    "    for i in range(m):\n",
    "\n",
    "        f_wb_i = np.dot(x[i], w)+ b \n",
    "\n",
    "        err = f_wb_i - y[i]\n",
    "\n",
    "        for j in range(n):\n",
    "\n",
    "            dj_dw[j]+= x[i, j] * err\n",
    "        \n",
    "        dj_db+=err \n",
    "    dj_dw /= m \n",
    "\n",
    "    dj_db /=m \n",
    "\n",
    "\n",
    "    return dj_dw , dj_db"
   ]
  },
  {
   "cell_type": "markdown",
   "metadata": {},
   "source": [
    "#### Gradient descent for logistic regression , find parameters w and b for building logistic regression model "
   ]
  },
  {
   "cell_type": "code",
   "execution_count": 15,
   "metadata": {},
   "outputs": [],
   "source": [
    "\n",
    "def gradient_descent_logistic_regression(x , y , w_in , b_in , alpha , number_iterations):\n",
    "\n",
    "\n",
    "    w = copy.deepcopy(w_in)\n",
    "    b = b_in\n",
    "    j_cost_history = []\n",
    "\n",
    "    for i in range(number_iterations):\n",
    "\n",
    "        # computing gradient descent to dj_dw , dj_db \n",
    "        dj_db , dj_dw = compute_gradient_logistic_regression(x , y ,w ,b )\n",
    "\n",
    "        # cost value \n",
    "\n",
    "        cost = cost_function_logistic_regression(x , y , w , b)\n",
    "\n",
    "        # update the parameters of the model \n",
    "\n",
    "        w = w - alpha * dj_dw\n",
    "        b = b - alpha * dj_db\n",
    "\n",
    "        if i % number_iterations ==0:\n",
    "\n",
    "            j_cost_history.append(cost)\n",
    "\n",
    "            print(f\"{i}:{cost}\")\n",
    "    \n",
    "\n",
    "    return w , b , j_cost_history\n",
    "\n",
    "\n",
    "\n",
    "\n"
   ]
  },
  {
   "cell_type": "markdown",
   "metadata": {},
   "source": [
    "#### Logistic regression model "
   ]
  },
  {
   "cell_type": "code",
   "execution_count": 16,
   "metadata": {},
   "outputs": [],
   "source": [
    "def logistic_regression_model(x,w ,b):\n",
    "\n",
    "    z = np.dot(x, w) + b \n",
    "\n",
    "    lr_model = sigmoid(z)\n",
    "\n",
    "    return lr_model"
   ]
  },
  {
   "cell_type": "markdown",
   "metadata": {},
   "source": [
    "#### test of our model with college admission data "
   ]
  },
  {
   "cell_type": "code",
   "execution_count": 23,
   "metadata": {},
   "outputs": [
    {
     "name": "stdout",
     "output_type": "stream",
     "text": [
      "    GPA  SAT_Score  Extracurricular_Activities Admission_Status\n",
      "0  3.46       1223                           8         Rejected\n",
      "1  2.54        974                           8         Rejected\n",
      "2  2.91        909                           9         Rejected\n",
      "3  2.83       1369                           5         Accepted\n",
      "4  3.60       1536                           7         Accepted \n",
      "\n",
      "x features values    GPA  SAT_Score  Extracurricular_Activities\n",
      "0  3.46       1223                           8\n",
      "1  2.54        974                           8\n",
      "2  2.91        909                           9\n",
      "3  2.83       1369                           5\n",
      "4  3.60       1536                           7\n"
     ]
    }
   ],
   "source": [
    "df = pd.read_csv('student_admission_dataset.csv')\n",
    "\n",
    "print(f\"{df.head()} \\n\")\n",
    "\n",
    "y_real  = df['Admission_Status'].values \n",
    "\n",
    "x = df.drop('Admission_Status', axis=1)\n",
    "\n",
    "print(f\"x features values{x.head()}\")"
   ]
  },
  {
   "cell_type": "code",
   "execution_count": null,
   "metadata": {},
   "outputs": [],
   "source": []
  },
  {
   "cell_type": "code",
   "execution_count": null,
   "metadata": {},
   "outputs": [],
   "source": []
  },
  {
   "cell_type": "code",
   "execution_count": null,
   "metadata": {},
   "outputs": [],
   "source": []
  },
  {
   "cell_type": "code",
   "execution_count": null,
   "metadata": {},
   "outputs": [],
   "source": []
  }
 ],
 "metadata": {
  "kernelspec": {
   "display_name": ".env",
   "language": "python",
   "name": "python3"
  },
  "language_info": {
   "codemirror_mode": {
    "name": "ipython",
    "version": 3
   },
   "file_extension": ".py",
   "mimetype": "text/x-python",
   "name": "python",
   "nbconvert_exporter": "python",
   "pygments_lexer": "ipython3",
   "version": "3.11.5"
  }
 },
 "nbformat": 4,
 "nbformat_minor": 2
}
