{
 "cells": [
  {
   "cell_type": "code",
   "execution_count": 6,
   "metadata": {},
   "outputs": [],
   "source": [
    "# predict the house price according to the sqft , price , numbers of bedrooms etc \n",
    "\n",
    "import numpy as np \n",
    "import copy \n",
    "\n",
    "\n",
    "\n",
    "def compute_cost_linear_regression(x , y ,w , b):\n",
    "\n",
    "    m= x.shape[0]\n",
    "\n",
    "\n",
    "    cost = 0.0\n",
    "\n",
    "    for i in range(m):\n",
    "\n",
    "        f_wb_i = np.dot(x[i], w )+b\n",
    "\n",
    "        f_wb = f_wb_i - y [i]\n",
    "\n",
    "        cost += f_wb **2\n",
    "\n",
    "    cost /= (2*m)\n",
    "\n",
    "\n",
    "    return cost \n"
   ]
  },
  {
   "cell_type": "code",
   "execution_count": 7,
   "metadata": {},
   "outputs": [],
   "source": [
    "def compute_gradient_descent(x , y , w ,b):\n",
    "\n",
    "    m= x.shape[0]\n",
    "\n",
    "    n = len(w)\n",
    "    dj_dw = np.zeros(n)\n",
    "    dj_db = 0.0\n",
    "\n",
    "    for i in range(m):\n",
    "        f_wb_i = np.dot(x[i], w )+b \n",
    "        f_wb = f_wb_i - y [i]\n",
    "\n",
    "        for j in range(n):\n",
    "\n",
    "            dj_dw[j] += f_wb * x[i,j]\n",
    "        dj_db += f_wb\n",
    "    \n",
    "    dj_dw /=m \n",
    "    dj_db /=m \n",
    "\n",
    "\n",
    "\n",
    "    return dj_dw , dj_db\n"
   ]
  },
  {
   "cell_type": "code",
   "execution_count": 8,
   "metadata": {},
   "outputs": [],
   "source": [
    "def linearGradientDescent(x , y , w_in , b_in , compute_cost_linear_regression , compute_gradient_descent, alpha , number_of_iterations): \n",
    "\n",
    "\n",
    "    \"let's compute gradient descent for linear regression \"\n",
    "\n",
    "\n",
    "    cost =0.0\n",
    "\n",
    "    w = copy.deepcopy(w_in)\n",
    "\n",
    "\n",
    "\n",
    "    for i in range(number_of_iterations):\n",
    "\n",
    "        cost = compute_cost_linear_regression(x ,y , w_in ,b_in)\n",
    "\n",
    "        dj_dw , dj_db = compute_gradient_descent(x , y ,w ,b_in)\n",
    "\n",
    "\n",
    "        # update values of parameters \n",
    "\n",
    "\n",
    "        w = w - alpha * dj_dw\n",
    "        b = b- alpha * dj_db \n",
    "\n",
    "\n",
    "\n",
    "    \n",
    "\n",
    "    return cost , w ,b \n"
   ]
  },
  {
   "cell_type": "code",
   "execution_count": null,
   "metadata": {},
   "outputs": [],
   "source": [
    "# create our multiple linear regression model \n",
    "\n",
    "\n",
    "\n",
    "\n"
   ]
  },
  {
   "cell_type": "code",
   "execution_count": null,
   "metadata": {},
   "outputs": [],
   "source": []
  }
 ],
 "metadata": {
  "kernelspec": {
   "display_name": ".env",
   "language": "python",
   "name": "python3"
  },
  "language_info": {
   "codemirror_mode": {
    "name": "ipython",
    "version": 3
   },
   "file_extension": ".py",
   "mimetype": "text/x-python",
   "name": "python",
   "nbconvert_exporter": "python",
   "pygments_lexer": "ipython3",
   "version": "3.11.5"
  }
 },
 "nbformat": 4,
 "nbformat_minor": 2
}
